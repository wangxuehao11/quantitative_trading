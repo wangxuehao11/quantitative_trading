{
 "cells": [
  {
   "cell_type": "code",
   "execution_count": 4,
   "metadata": {},
   "outputs": [],
   "source": [
    "## https://www.quantstart.com/articles/Forecasting-Financial-Time-Series-Part-1/\n",
    "import datetime\n",
    "import numpy as np\n",
    "import pandas as pd\n",
    "import sklearn\n",
    "\n",
    "from pandas_datareader import DataReader\n",
    "from sklearn.linear_model import LogisticRegression\n",
    "from sklearn.discriminant_analysis import LinearDiscriminantAnalysis as LDA\n",
    "from sklearn.discriminant_analysis import QuadraticDiscriminantAnalysis as QDA"
   ]
  },
  {
   "cell_type": "code",
   "execution_count": 13,
   "metadata": {},
   "outputs": [],
   "source": [
    "def create_lagged_series(symbol, start_date, end_date, lags=5):\n",
    "    \"\"\"This creates a pandas DataFrame that stores the percentage returns of the \n",
    "    adjusted closing value of a stock obtained from Yahoo Finance, along with \n",
    "    a number of lagged returns from the prior trading days (lags defaults to 5 days).\n",
    "    Trading volume, as well as the Direction from the previous day, are also included.\"\"\"\n",
    "\n",
    "    # Obtain stock information from Yahoo Finance\n",
    "    ts = DataReader(symbol, \"yahoo\", start_date-datetime.timedelta(days=365), end_date)\n",
    "\n",
    "    # Create the new lagged DataFrame\n",
    "    tslag = pd.DataFrame(index=ts.index)\n",
    "    tslag[\"Today\"] = ts[\"Adj Close\"]\n",
    "    tslag[\"Volume\"] = ts[\"Volume\"]\n",
    "\n",
    "    # Create the shifted lag series of prior trading period close values\n",
    "    for i in range(0,lags):\n",
    "        tslag[\"Lag%s\" % str(i+1)] = ts[\"Adj Close\"].shift(i+1)\n",
    "\n",
    "    # Create the returns DataFrame\n",
    "    tsret = pd.DataFrame(index=tslag.index)\n",
    "    tsret[\"Volume\"] = tslag[\"Volume\"]\n",
    "    tsret[\"Today\"] = tslag[\"Today\"].pct_change()*100.0\n",
    "\n",
    "    # If any of the values of percentage returns equal zero, set them to\n",
    "    # a small number (stops issues with QDA model in scikit-learn)\n",
    "    for i,x in enumerate(tsret[\"Today\"]):\n",
    "        if (abs(x) < 0.0001):\n",
    "            tsret[\"Today\"][i] = 0.0001\n",
    "\n",
    "    # Create the lagged percentage returns columns\n",
    "    for i in range(0,lags):\n",
    "        tsret[\"Lag%s\" % str(i+1)] = tslag[\"Lag%s\" % str(i+1)].pct_change()*100.0\n",
    "\n",
    "    # Create the \"Direction\" column (+1 or -1) indicating an up/down day\n",
    "    tsret[\"Direction\"] = np.sign(tsret[\"Today\"])\n",
    "    tsret = tsret[tsret.index >= start_date]\n",
    "\n",
    "    return tsret"
   ]
  },
  {
   "cell_type": "code",
   "execution_count": 34,
   "metadata": {},
   "outputs": [],
   "source": [
    "def fit_model(name, model, X_train, y_train, X_test, pred):\n",
    "    \"\"\"Fits a classification model (for our purposes this is LR, LDA and QDA)\n",
    "    using the training data, then makes a prediction and subsequent \"hit rate\"\n",
    "    for the test data.\"\"\"\n",
    "\n",
    "    # Fit and predict the model on the training, and then test, data\n",
    "    model.fit(X_train, y_train)\n",
    "    pred[name] = model.predict(X_test)\n",
    "\n",
    "    # Create a series with 1 being correct direction, 0 being wrong\n",
    "    # and then calculate the hit rate based on the actual direction\n",
    "    pred[\"%s_Correct\" % name] = (1.0+pred[name]*pred[\"Actual\"])/2.0\n",
    "    hit_rate = np.mean(pred[\"%s_Correct\" % name])\n",
    "    print(\"Hit rate of {}: {}\".format(name, hit_rate))"
   ]
  },
  {
   "cell_type": "code",
   "execution_count": 35,
   "metadata": {},
   "outputs": [
    {
     "name": "stdout",
     "output_type": "stream",
     "text": [
      "Hit Rates:\n",
      "Hit rate of LR: 0.5595238095238095\n",
      "Hit rate of LDA: 0.5595238095238095\n",
      "Hit rate of QDA: 0.5992063492063492\n"
     ]
    },
    {
     "name": "stderr",
     "output_type": "stream",
     "text": [
      "/opt/conda/lib/python3.7/site-packages/ipykernel_launcher.py:28: SettingWithCopyWarning: \n",
      "A value is trying to be set on a copy of a slice from a DataFrame\n",
      "\n",
      "See the caveats in the documentation: https://pandas.pydata.org/pandas-docs/stable/user_guide/indexing.html#returning-a-view-versus-a-copy\n"
     ]
    }
   ],
   "source": [
    "if __name__ == \"__main__\":\n",
    "    # Create a lagged series of the S&P500 US stock market index\n",
    "    snpret = create_lagged_series(\"^GSPC\", datetime.datetime(2001,1,10), datetime.datetime(2005,12,31), lags=5)\n",
    "\n",
    "    # Use the prior two days of returns as predictor values, with direction as the response\n",
    "    X = snpret[[\"Lag1\",\"Lag2\"]]\n",
    "    y = snpret[\"Direction\"]\n",
    "\n",
    "    # The test data is split into two parts: Before and after 1st Jan 2005.\n",
    "    start_test = datetime.datetime(2005,1,1)\n",
    "\n",
    "    # Create training and test sets\n",
    "    X_train = X[X.index < start_test]\n",
    "    X_test = X[X.index >= start_test]\n",
    "    y_train = y[y.index < start_test]\n",
    "    y_test = y[y.index >= start_test]\n",
    "\n",
    "    # Create prediction DataFrame\n",
    "    pred = pd.DataFrame(index=y_test.index)\n",
    "    pred[\"Actual\"] = y_test\n",
    "    \n",
    "    # Create and fit the three models    \n",
    "    print( \"Hit Rates:\")\n",
    "    models = [(\"LR\", LogisticRegression()), (\"LDA\", LDA()), (\"QDA\", QDA())]\n",
    "    for m in models:\n",
    "        fit_model(m[0], m[1], X_train, y_train, X_test, pred)"
   ]
  },
  {
   "cell_type": "code",
   "execution_count": null,
   "metadata": {},
   "outputs": [],
   "source": []
  }
 ],
 "metadata": {
  "kernelspec": {
   "display_name": "Python 3",
   "language": "python",
   "name": "python3"
  },
  "language_info": {
   "codemirror_mode": {
    "name": "ipython",
    "version": 3
   },
   "file_extension": ".py",
   "mimetype": "text/x-python",
   "name": "python",
   "nbconvert_exporter": "python",
   "pygments_lexer": "ipython3",
   "version": "3.7.6"
  }
 },
 "nbformat": 4,
 "nbformat_minor": 4
}
